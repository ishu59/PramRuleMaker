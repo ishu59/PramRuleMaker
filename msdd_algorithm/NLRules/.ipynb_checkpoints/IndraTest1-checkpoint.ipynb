{
 "cells": [
  {
   "cell_type": "code",
   "execution_count": 1,
   "metadata": {},
   "outputs": [],
   "source": [
    "from indra.sources import eidos"
   ]
  },
  {
   "cell_type": "markdown",
   "metadata": {},
   "source": [
    "## Example on Conflict and hunger"
   ]
  },
  {
   "cell_type": "code",
   "execution_count": 3,
   "metadata": {},
   "outputs": [],
   "source": [
    "sent = 'Conflict causes displacement, which leads to hunger'\n",
    "webservice = 'http://localhost:9000'\n",
    "ep = eidos.process_text(sent, webservice=webservice)"
   ]
  },
  {
   "cell_type": "code",
   "execution_count": 4,
   "metadata": {},
   "outputs": [],
   "source": [
    "from indra.assemblers.cag import CAGAssembler"
   ]
  },
  {
   "cell_type": "code",
   "execution_count": 5,
   "metadata": {},
   "outputs": [
    {
     "data": {
      "text/plain": [
       "<networkx.classes.multidigraph.MultiDiGraph at 0x7f0dc028f9b0>"
      ]
     },
     "execution_count": 5,
     "metadata": {},
     "output_type": "execute_result"
    }
   ],
   "source": [
    "ca = CAGAssembler(ep.statements)\n",
    "ca.make_model()"
   ]
  },
  {
   "cell_type": "code",
   "execution_count": 6,
   "metadata": {},
   "outputs": [],
   "source": [
    "from IPython.core.display import Javascript"
   ]
  },
  {
   "cell_type": "code",
   "execution_count": 7,
   "metadata": {},
   "outputs": [
    {
     "data": {
      "application/javascript": [
       "require.config({\n",
       "        paths: {\n",
       "          cytoscape: 'https://cdnjs.cloudflare.com/ajax/libs/cytoscape/3.2.8/cytoscape',\n",
       "        }\n",
       "      })\n",
       "\n",
       "      require(['cytoscape'], function(cytoscape){\n",
       "        $(\"#cyDiv\").remove();\n",
       "        element.append(\"<div id='cyDiv'></div>\");\n",
       "        $(\"#cyDiv\").height(\"300px\");\n",
       "\n",
       "          var cy = cytoscape({\n",
       "            container : document.getElementById('cyDiv'),\n",
       "            elements  : {\n",
       "  \"nodes\": [\n",
       "    {\n",
       "      \"data\": {\n",
       "        \"id\": \"Conflict\",\n",
       "        \"simulable\": false,\n",
       "        \"tooltip\": \"Modifiers: []\"\n",
       "      }\n",
       "    },\n",
       "    {\n",
       "      \"data\": {\n",
       "        \"id\": \"Displacement\",\n",
       "        \"simulable\": false,\n",
       "        \"tooltip\": \"Modifiers: []\"\n",
       "      }\n",
       "    },\n",
       "    {\n",
       "      \"data\": {\n",
       "        \"id\": \"Hunger\",\n",
       "        \"simulable\": false,\n",
       "        \"tooltip\": \"Modifiers: []\"\n",
       "      }\n",
       "    }\n",
       "  ],\n",
       "  \"edges\": [\n",
       "    {\n",
       "      \"data\": {\n",
       "        \"id\": \"Conflict_Displacement\",\n",
       "        \"source\": \"Conflict\",\n",
       "        \"target\": \"Displacement\",\n",
       "        \"linestyle\": \"dotted\",\n",
       "        \"linecolor\": \"maroon\",\n",
       "        \"targetArrowShape\": \"triangle\",\n",
       "        \"subj_adjectives\": [],\n",
       "        \"subj_polarity\": null,\n",
       "        \"obj_adjectives\": [],\n",
       "        \"obj_polarity\": null,\n",
       "        \"tooltip\": {\n",
       "          \"documentCharPositions\": [\n",
       "            {\n",
       "              \"@type\": \"Interval\",\n",
       "              \"start\": 0,\n",
       "              \"end\": 27\n",
       "            }\n",
       "          ],\n",
       "          \"document\": {\n",
       "            \"@id\": \"_:Document_1\"\n",
       "          },\n",
       "          \"sentenceWordPositions\": [\n",
       "            {\n",
       "              \"@type\": \"Interval\",\n",
       "              \"start\": 1,\n",
       "              \"end\": 3\n",
       "            }\n",
       "          ],\n",
       "          \"sentence\": {\n",
       "            \"@id\": \"_:Sentence_1\"\n",
       "          },\n",
       "          \"text\": \"Conflict causes displacement , which leads to hunger .\"\n",
       "        },\n",
       "        \"simulable\": false\n",
       "      }\n",
       "    },\n",
       "    {\n",
       "      \"data\": {\n",
       "        \"id\": \"Displacement_Hunger\",\n",
       "        \"source\": \"Displacement\",\n",
       "        \"target\": \"Hunger\",\n",
       "        \"linestyle\": \"dotted\",\n",
       "        \"linecolor\": \"maroon\",\n",
       "        \"targetArrowShape\": \"triangle\",\n",
       "        \"subj_adjectives\": [],\n",
       "        \"subj_polarity\": null,\n",
       "        \"obj_adjectives\": [],\n",
       "        \"obj_polarity\": null,\n",
       "        \"tooltip\": {\n",
       "          \"documentCharPositions\": [\n",
       "            {\n",
       "              \"@type\": \"Interval\",\n",
       "              \"start\": 16,\n",
       "              \"end\": 50\n",
       "            }\n",
       "          ],\n",
       "          \"document\": {\n",
       "            \"@id\": \"_:Document_1\"\n",
       "          },\n",
       "          \"sentenceWordPositions\": [\n",
       "            {\n",
       "              \"@type\": \"Interval\",\n",
       "              \"start\": 3,\n",
       "              \"end\": 8\n",
       "            }\n",
       "          ],\n",
       "          \"sentence\": {\n",
       "            \"@id\": \"_:Sentence_1\"\n",
       "          },\n",
       "          \"text\": \"Conflict causes displacement , which leads to hunger .\"\n",
       "        },\n",
       "        \"simulable\": false\n",
       "      }\n",
       "    }\n",
       "  ]\n",
       "},\n",
       "            style     : [\n",
       "  {\n",
       "    \"selector\": \"node\",\n",
       "    \"style\": {\n",
       "      \"label\": \"data(id)\",\n",
       "      \"background-color\": \"white\",\n",
       "      \"border-color\": \"maroon\",\n",
       "      \"border-width\": \"1px\",\n",
       "      \"font-family\": \"Arno Pro, Arial\",\n",
       "      \"text-halign\": \"center\",\n",
       "      \"text-valign\": \"center\",\n",
       "      \"padding\": 10,\n",
       "      \"width\": \"label\",\n",
       "      \"height\": \"label\",\n",
       "      \"shape\": \"roundrectangle\",\n",
       "      \"text-max-width\": 100,\n",
       "      \"text-wrap\": \"wrap\"\n",
       "    }\n",
       "  },\n",
       "  {\n",
       "    \"selector\": \"edge\",\n",
       "    \"style\": {\n",
       "      \"curve-style\": \"bezier\",\n",
       "      \"line-color\": \"data(linecolor)\",\n",
       "      \"target-arrow-shape\": \"data(targetArrowShape)\",\n",
       "      \"target-arrow-color\": \"data(linecolor)\",\n",
       "      \"line-style\": \"data(linestyle)\",\n",
       "      \"width\": \"1\"\n",
       "    }\n",
       "  }\n",
       "],\n",
       "            layout    : {\n",
       "  \"name\": \"cose\",\n",
       "  \"nodeDimensionsIncludeLabels\": true,\n",
       "  \"componentSpacing\": 1,\n",
       "  \"nodeOverlap\": 1000,\n",
       "  \"nodeRepulsion\": 500\n",
       "},\n",
       "            maxZoom   : 10,\n",
       "            minZoom   : 0.1,\n",
       "          });\n",
       "      });\n"
      ],
      "text/plain": [
       "<IPython.core.display.Javascript object>"
      ]
     },
     "execution_count": 7,
     "metadata": {},
     "output_type": "execute_result"
    }
   ],
   "source": [
    "Javascript(ca.generate_jupyter_js())"
   ]
  },
  {
   "cell_type": "code",
   "execution_count": 8,
   "metadata": {},
   "outputs": [
    {
     "name": "stdout",
     "output_type": "stream",
     "text": [
      "Influence(Event(conflict), Event(displacement)) with evidence \"Conflict causes displacement , which leads to hunger .\"\n",
      "Influence(Event(displacement), Event(hunger)) with evidence \"Conflict causes displacement , which leads to hunger .\"\n"
     ]
    }
   ],
   "source": [
    "for st in ep.statements:\n",
    "    print('%s with evidence \"%s\"' % (st, st.evidence[0].text))"
   ]
  },
  {
   "cell_type": "code",
   "execution_count": 9,
   "metadata": {},
   "outputs": [
    {
     "name": "stderr",
     "output_type": "stream",
     "text": [
      "INFO: [2020-01-30 14:20:02] indra.preassembler.grounding_mapper.adeft - Adeft will not be available for grounding disambiguation.\n",
      "WARNING: [2020-01-30 14:20:02] indra.config - Key GILDA_URL not in environment or config file.\n"
     ]
    }
   ],
   "source": [
    "from indra.assemblers.pysb import PysbAssembler"
   ]
  },
  {
   "cell_type": "code",
   "execution_count": 10,
   "metadata": {},
   "outputs": [
    {
     "name": "stderr",
     "output_type": "stream",
     "text": [
      "INFO: [2020-01-30 14:20:03] indra.assemblers.pysb.assembler - Using two_step assembly policy.\n",
      "WARNING: [2020-01-30 14:20:03] indra.databases - Unhandled name space MITRE12\n",
      "WARNING: [2020-01-30 14:20:03] indra.databases - Unhandled name space WHO\n",
      "WARNING: [2020-01-30 14:20:03] indra.databases - Unhandled name space WM\n",
      "WARNING: [2020-01-30 14:20:03] indra.databases - Unhandled name space MITRE12\n",
      "WARNING: [2020-01-30 14:20:03] indra.databases - Unhandled name space WHO\n",
      "WARNING: [2020-01-30 14:20:03] indra.databases - Unhandled name space WM\n",
      "WARNING: [2020-01-30 14:20:03] indra.databases - Unhandled name space MITRE12\n",
      "WARNING: [2020-01-30 14:20:03] indra.databases - Unhandled name space WHO\n",
      "WARNING: [2020-01-30 14:20:03] indra.databases - Unhandled name space WM\n"
     ]
    },
    {
     "data": {
      "text/plain": [
       "<Model 'indra_model' (monomers: 3, rules: 2, parameters: 5, expressions: 0, compartments: 0) at 0x7f0d450827b8>"
      ]
     },
     "execution_count": 10,
     "metadata": {},
     "output_type": "execute_result"
    }
   ],
   "source": [
    "pa = PysbAssembler()\n",
    "pa.add_statements(ep.statements)\n",
    "pa.make_model(policies='two_step')"
   ]
  },
  {
   "cell_type": "markdown",
   "metadata": {},
   "source": [
    "### Monomer = Indivisible elements that will make up the molecules and complexes whose behavior you intend to model."
   ]
  },
  {
   "cell_type": "code",
   "execution_count": 11,
   "metadata": {},
   "outputs": [
    {
     "name": "stdout",
     "output_type": "stream",
     "text": [
      "Monomer('displacement')\n",
      "Monomer('conflict')\n",
      "Monomer('hunger')\n"
     ]
    }
   ],
   "source": [
    "for monomer in pa.model.monomers:\n",
    "    print(monomer)"
   ]
  },
  {
   "cell_type": "markdown",
   "metadata": {},
   "source": [
    "### Rules define chemical reactions between molecules and complexes. A rule consists of a name, a pattern describing which molecular species should act as the reactants, another pattern describing how reactants should be transformed into products, and parameters denoting the rate constants."
   ]
  },
  {
   "cell_type": "code",
   "execution_count": 12,
   "metadata": {},
   "outputs": [
    {
     "name": "stdout",
     "output_type": "stream",
     "text": [
      "Rule('conflict_positively_influences_displacement', conflict() + None >> conflict() + displacement(), kf_cd_pos_1)\n",
      "Rule('displacement_positively_influences_hunger', displacement() + None >> displacement() + hunger(), kf_dh_pos_1)\n"
     ]
    }
   ],
   "source": [
    "for rule in pa.model.rules:\n",
    "    print(rule)"
   ]
  },
  {
   "cell_type": "markdown",
   "metadata": {},
   "source": [
    "### Parameters are constant numerical values that represent biological constants. A parameter can be used as a reaction rate constant, compartment volume or initial (boundary) condition for a molecular species"
   ]
  },
  {
   "cell_type": "code",
   "execution_count": 13,
   "metadata": {},
   "outputs": [
    {
     "name": "stdout",
     "output_type": "stream",
     "text": [
      "Parameter('kf_cd_pos_1', 2e-09)\n",
      "Parameter('kf_dh_pos_1', 2e-09)\n",
      "Parameter('displacement_0', 10000.0)\n",
      "Parameter('conflict_0', 10000.0)\n",
      "Parameter('hunger_0', 10000.0)\n"
     ]
    }
   ],
   "source": [
    "for parameter in pa.model.parameters:\n",
    "    print(parameter)"
   ]
  },
  {
   "cell_type": "code",
   "execution_count": 28,
   "metadata": {},
   "outputs": [
    {
     "name": "stdout",
     "output_type": "stream",
     "text": [
      "Annotation(displacement, \"https://github.com/clulab/eidos/wiki/JSON-LD#Grounding/[('UN/events/human/human_migration', 0.63105708360672), ('UN/events/human/physical_insecurity', 0.4391251802444458), ('UN/events/human/famine', 0.39989176392555237), ('UN/interventions/humanitarian_assistance', 0.36741527915000916), ('UN/events/nature_impact/pollution/climate_change', 0.36371663212776184), ('UN/events/human/political/political_instability', 0.33539310097694397), ('UN/entities/human/financial/economic/poverty', 0.3083617091178894), ('UN/events/human/death', 0.30735886096954346), ('UN/events/human/conflict', 0.3041136860847473), ('UN/entities/human/food/food_insecurity', 0.29740703105926514)]\", 'is')\n",
      "Annotation(conflict, \"https://github.com/clulab/eidos/wiki/JSON-LD#Grounding/[('UN/events/human/conflict', 0.7292178273200989), ('UN/events/human/political/political_instability', 0.5194771885871887), ('UN/events/human/economic_crisis', 0.4181205630302429), ('UN/events/crisis', 0.3941281735897064), ('UN/events/human/physical_insecurity', 0.3922896087169647), ('UN/events/human/political/independence', 0.35235029458999634), ('UN/entities/human/food/food_insecurity', 0.32478681206703186), ('UN/interventions/humanitarian_assistance', 0.31395071744918823), ('UN/events/human/famine', 0.3078692555427551), ('UN/entities/GPE', 0.30502957105636597)]\", 'is')\n",
      "Annotation(hunger, \"https://github.com/clulab/eidos/wiki/JSON-LD#Grounding/[('UN/events/human/famine', 0.8159552812576294), ('UN/entities/human/food/food_insecurity', 0.6094805598258972), ('UN/entities/human/financial/economic/poverty', 0.5418576598167419), ('UN/events/human/physical_insecurity', 0.4540584981441498), ('UN/events/nature_impact/pollution/climate_change', 0.43557822704315186), ('UN/entities/human/food/food_security', 0.4245942234992981), ('UN/events/natural_disaster/drought', 0.4191633462905884), ('UN/interventions/humanitarian_assistance', 0.4147801995277405), ('UN/entities/food_availability', 0.41374471783638), ('UN/entities/human/health/disease', 0.3849664032459259)]\", 'is')\n",
      "Annotation(conflict_positively_influences_displacement, '8c7913c0-baf3-4974-be05-7fbaf5306f6b', 'from_indra_statement')\n",
      "Annotation(conflict_positively_influences_displacement, 'displacement', 'rule_has_object')\n",
      "Annotation(conflict_positively_influences_displacement, 'conflict', 'rule_has_subject')\n",
      "Annotation(displacement_positively_influences_hunger, 'e511eca1-277a-4734-a4a2-8f14b906ed4d', 'from_indra_statement')\n",
      "Annotation(displacement_positively_influences_hunger, 'hunger', 'rule_has_object')\n",
      "Annotation(displacement_positively_influences_hunger, 'displacement', 'rule_has_subject')\n"
     ]
    }
   ],
   "source": [
    "for annotation in pa.model.annotations:\n",
    "    print(annotation)"
   ]
  },
  {
   "cell_type": "code",
   "execution_count": 32,
   "metadata": {},
   "outputs": [
    {
     "data": {
      "text/plain": [
       "'begin model\\nbegin parameters\\n  kf_cd_pos_1      2.000000e-09\\n  kf_dh_pos_1      2.000000e-09\\n  displacement_0   1.000000e+04\\n  conflict_0       1.000000e+04\\n  hunger_0         1.000000e+04\\nend parameters\\n\\nbegin molecule types\\n  displacement()\\n  conflict()\\n  hunger()\\nend molecule types\\n\\nbegin species\\n  displacement()   displacement_0\\n  conflict()       conflict_0\\n  hunger()         hunger_0\\nend species\\n\\nbegin reaction rules\\n  conflict_positively_influences_displacement:  conflict() + 0 -> conflict() + displacement()    kf_cd_pos_1\\n  displacement_positively_influences_hunger:    displacement() + 0 -> displacement() + hunger()    kf_dh_pos_1\\nend reaction rules\\n\\nend model\\n'"
      ]
     },
     "execution_count": 32,
     "metadata": {},
     "output_type": "execute_result"
    }
   ],
   "source": [
    "pa.export_model('bngl', 'Conflict.bngl')"
   ]
  },
  {
   "cell_type": "markdown",
   "metadata": {},
   "source": [
    "## Example on trucking and fuel"
   ]
  },
  {
   "cell_type": "code",
   "execution_count": 15,
   "metadata": {},
   "outputs": [
    {
     "data": {
      "text/plain": [
       "[Influence(Event(fuel), Event(water trucking))]"
      ]
     },
     "execution_count": 15,
     "metadata": {},
     "output_type": "execute_result"
    }
   ],
   "source": [
    "ep = eidos.process_text(\"Water trucking has decreased due to the cost of fuel.\", webservice=webservice)\n",
    "ep.statements"
   ]
  },
  {
   "cell_type": "code",
   "execution_count": 16,
   "metadata": {},
   "outputs": [
    {
     "name": "stdout",
     "output_type": "stream",
     "text": [
      "Influence(Event(fuel), Event(water trucking)) with evidence \"Water trucking has decreased due to the cost of fuel .\"\n"
     ]
    }
   ],
   "source": [
    "for st in ep.statements:\n",
    "    print('%s with evidence \"%s\"' % (st, st.evidence[0].text))"
   ]
  },
  {
   "cell_type": "code",
   "execution_count": 17,
   "metadata": {},
   "outputs": [],
   "source": [
    "from indra.assemblers.pysb import PysbAssembler"
   ]
  },
  {
   "cell_type": "code",
   "execution_count": 18,
   "metadata": {},
   "outputs": [
    {
     "name": "stderr",
     "output_type": "stream",
     "text": [
      "INFO: [2020-01-30 14:22:00] indra.assemblers.pysb.assembler - Using two_step assembly policy.\n",
      "WARNING: [2020-01-30 14:22:00] indra.databases - Unhandled name space MITRE12\n",
      "WARNING: [2020-01-30 14:22:00] indra.databases - Unhandled name space WHO\n",
      "WARNING: [2020-01-30 14:22:00] indra.databases - Unhandled name space WM\n",
      "WARNING: [2020-01-30 14:22:00] indra.databases - Unhandled name space MITRE12\n",
      "WARNING: [2020-01-30 14:22:00] indra.databases - Unhandled name space PROPS\n",
      "WARNING: [2020-01-30 14:22:00] indra.databases - Unhandled name space WHO\n",
      "WARNING: [2020-01-30 14:22:00] indra.databases - Unhandled name space WM\n"
     ]
    },
    {
     "data": {
      "text/plain": [
       "<Model 'indra_model' (monomers: 2, rules: 1, parameters: 3, expressions: 0, compartments: 0) at 0x7f0cf3aeb518>"
      ]
     },
     "execution_count": 18,
     "metadata": {},
     "output_type": "execute_result"
    }
   ],
   "source": [
    "pa = PysbAssembler()\n",
    "pa.add_statements(ep.statements)\n",
    "pa.make_model(policies='two_step')"
   ]
  },
  {
   "cell_type": "code",
   "execution_count": 19,
   "metadata": {},
   "outputs": [
    {
     "name": "stdout",
     "output_type": "stream",
     "text": [
      "Monomer('water_trucking')\n",
      "Monomer('fuel')\n"
     ]
    }
   ],
   "source": [
    "for monomer in pa.model.monomers:\n",
    "    print(monomer)"
   ]
  },
  {
   "cell_type": "code",
   "execution_count": 20,
   "metadata": {},
   "outputs": [
    {
     "name": "stdout",
     "output_type": "stream",
     "text": [
      "Rule('fuel_negatively_influences_water_trucking', fuel() + water_trucking() >> fuel() + None, kf_fw_neg_1)\n"
     ]
    }
   ],
   "source": [
    "for rule in pa.model.rules:\n",
    "    print(rule)"
   ]
  },
  {
   "cell_type": "code",
   "execution_count": 21,
   "metadata": {},
   "outputs": [
    {
     "name": "stdout",
     "output_type": "stream",
     "text": [
      "Parameter('kf_fw_neg_1', 2e-05)\n",
      "Parameter('water_trucking_0', 10000.0)\n",
      "Parameter('fuel_0', 10000.0)\n"
     ]
    }
   ],
   "source": [
    "for parameter in pa.model.parameters:\n",
    "    print(parameter)"
   ]
  },
  {
   "cell_type": "code",
   "execution_count": 22,
   "metadata": {},
   "outputs": [
    {
     "name": "stdout",
     "output_type": "stream",
     "text": [
      "Annotation(water_trucking, \"https://github.com/clulab/eidos/wiki/JSON-LD#Grounding/[('UN/entities/natural/natural_resources/abiotic_resources/water', 0.6995037794113159), ('UN/entities/human/infrastructure/water_management', 0.6828688979148865), ('UN/entities/human/infrastructure/building', 0.5918024778366089), ('UN/entities/human/infrastructure/transportation/transportation_methods', 0.5895777344703674), ('UN/entities/natural/crop_technology/irrigation', 0.5723459720611572), ('UN/entities/natural/crop_technology/fertilizer', 0.5008036494255066), ('UN/entities/human/financial/economic/fuel', 0.493723601102829), ('UN/entities/human/infrastructure/shipping_facilities_water', 0.47049185633659363), ('UN/entities/natural/natural_resources/abiotic_resources/land', 0.469325989484787), ('UN/events/nature_impact/pollution/land_pollution', 0.4631204605102539)]\", 'is')\n",
      "Annotation(fuel, \"https://github.com/clulab/eidos/wiki/JSON-LD#Grounding/[('UN/entities/human/financial/economic/fuel', 0.7881125211715698), ('UN/entities/human/infrastructure/electrical', 0.46506890654563904), ('UN/events/nature_impact/pollution/air_pollution', 0.42679381370544434), ('UN/entities/human/food/food_price', 0.3984878361225128), ('UN/entities/natural/crop_technology/fertilizer', 0.3751204013824463), ('UN/entities/human/infrastructure/transportation/transportation_methods', 0.3728591203689575), ('UN/entities/natural/chemical', 0.36565664410591125), ('UN/entities/food_availability', 0.34663382172584534), ('UN/entities/human/food/food_insecurity', 0.3464372158050537), ('UN/entities/human/financial/economic/economy', 0.3404186964035034)]\", 'is')\n",
      "Annotation(fuel_negatively_influences_water_trucking, 'b74c3db1-fa02-4ebe-befb-655515526eb5', 'from_indra_statement')\n",
      "Annotation(fuel_negatively_influences_water_trucking, 'water_trucking', 'rule_has_object')\n",
      "Annotation(fuel_negatively_influences_water_trucking, 'fuel', 'rule_has_subject')\n"
     ]
    }
   ],
   "source": [
    "for annotation in pa.model.annotations:\n",
    "    print(annotation)"
   ]
  },
  {
   "cell_type": "code",
   "execution_count": 23,
   "metadata": {},
   "outputs": [
    {
     "data": {
      "text/plain": [
       "'begin model\\nbegin parameters\\n  kf_fw_neg_1        2.000000e-05\\n  water_trucking_0   1.000000e+04\\n  fuel_0             1.000000e+04\\nend parameters\\n\\nbegin molecule types\\n  water_trucking()\\n  fuel()\\nend molecule types\\n\\nbegin species\\n  water_trucking()   water_trucking_0\\n  fuel()             fuel_0\\nend species\\n\\nbegin reaction rules\\n  fuel_negatively_influences_water_trucking:  fuel() + water_trucking() -> fuel() + 0    kf_fw_neg_1\\nend reaction rules\\n\\nend model\\n'"
      ]
     },
     "execution_count": 23,
     "metadata": {},
     "output_type": "execute_result"
    }
   ],
   "source": [
    "pa.export_model('bngl', 'fuel.bngl')"
   ]
  },
  {
   "cell_type": "code",
   "execution_count": null,
   "metadata": {
    "pycharm": {
     "name": "#%%\n"
    }
   },
   "outputs": [],
   "source": [
    "\n"
   ]
  }
 ],
 "metadata": {
  "kernelspec": {
   "display_name": "Python 3",
   "language": "python",
   "name": "python3"
  },
  "language_info": {
   "codemirror_mode": {
    "name": "ipython",
    "version": 3
   },
   "file_extension": ".py",
   "mimetype": "text/x-python",
   "name": "python",
   "nbconvert_exporter": "python",
   "pygments_lexer": "ipython3",
   "version": "3.7.3"
  },
  "pycharm": {
   "stem_cell": {
    "cell_type": "raw",
    "metadata": {
     "collapsed": false
    },
    "source": []
   }
  }
 },
 "nbformat": 4,
 "nbformat_minor": 2
}
