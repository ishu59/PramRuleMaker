{
 "cells": [
  {
   "cell_type": "code",
   "execution_count": 1,
   "metadata": {},
   "outputs": [],
   "source": [
    "import numpy as np\n",
    "import pandas as pd"
   ]
  },
  {
   "cell_type": "code",
   "execution_count": 26,
   "metadata": {},
   "outputs": [],
   "source": [
    "data = pd.read_csv('data/heart_data.csv')\n",
    "data = data.rename(columns=lambda x: x.strip())"
   ]
  },
  {
   "cell_type": "code",
   "execution_count": 30,
   "metadata": {},
   "outputs": [],
   "source": [
    "data['age'] = data['age'].apply(lambda x: 'age_low' if x < 35 else ('age_med' if x < 50 else 'age_high') )\n",
    "data['sex'] = data['sex'].apply(lambda x: 'sex_m' if x ==1 else 'sex_f')\n",
    "data['cp'] = data['cp'].apply(lambda x: 'cp_'+str(x))\n",
    "data['oldpeak'] = data['oldpeak'].apply(lambda x: 'oldpeak_'+str(int(x)))\n",
    "data['num'] = data['num'].apply(lambda x: 'yes' if x ==1 else 'no')"
   ]
  },
  {
   "cell_type": "code",
   "execution_count": 40,
   "metadata": {
    "scrolled": true
   },
   "outputs": [
    {
     "data": {
      "text/html": [
       "<div>\n",
       "<style scoped>\n",
       "    .dataframe tbody tr th:only-of-type {\n",
       "        vertical-align: middle;\n",
       "    }\n",
       "\n",
       "    .dataframe tbody tr th {\n",
       "        vertical-align: top;\n",
       "    }\n",
       "\n",
       "    .dataframe thead th {\n",
       "        text-align: right;\n",
       "    }\n",
       "</style>\n",
       "<table border=\"1\" class=\"dataframe\">\n",
       "  <thead>\n",
       "    <tr style=\"text-align: right;\">\n",
       "      <th></th>\n",
       "      <th>age</th>\n",
       "      <th>sex</th>\n",
       "      <th>cp</th>\n",
       "      <th>oldpeak</th>\n",
       "      <th>num</th>\n",
       "    </tr>\n",
       "  </thead>\n",
       "  <tbody>\n",
       "    <tr>\n",
       "      <th>0</th>\n",
       "      <td>age_low</td>\n",
       "      <td>sex_m</td>\n",
       "      <td>cp_2</td>\n",
       "      <td>oldpeak_0</td>\n",
       "      <td>no</td>\n",
       "    </tr>\n",
       "    <tr>\n",
       "      <th>1</th>\n",
       "      <td>age_low</td>\n",
       "      <td>sex_m</td>\n",
       "      <td>cp_2</td>\n",
       "      <td>oldpeak_0</td>\n",
       "      <td>no</td>\n",
       "    </tr>\n",
       "    <tr>\n",
       "      <th>2</th>\n",
       "      <td>age_low</td>\n",
       "      <td>sex_m</td>\n",
       "      <td>cp_2</td>\n",
       "      <td>oldpeak_0</td>\n",
       "      <td>no</td>\n",
       "    </tr>\n",
       "    <tr>\n",
       "      <th>3</th>\n",
       "      <td>age_low</td>\n",
       "      <td>sex_f</td>\n",
       "      <td>cp_1</td>\n",
       "      <td>oldpeak_0</td>\n",
       "      <td>no</td>\n",
       "    </tr>\n",
       "    <tr>\n",
       "      <th>4</th>\n",
       "      <td>age_low</td>\n",
       "      <td>sex_f</td>\n",
       "      <td>cp_2</td>\n",
       "      <td>oldpeak_0</td>\n",
       "      <td>no</td>\n",
       "    </tr>\n",
       "  </tbody>\n",
       "</table>\n",
       "</div>"
      ],
      "text/plain": [
       "       age    sex    cp    oldpeak num\n",
       "0  age_low  sex_m  cp_2  oldpeak_0  no\n",
       "1  age_low  sex_m  cp_2  oldpeak_0  no\n",
       "2  age_low  sex_m  cp_2  oldpeak_0  no\n",
       "3  age_low  sex_f  cp_1  oldpeak_0  no\n",
       "4  age_low  sex_f  cp_2  oldpeak_0  no"
      ]
     },
     "execution_count": 40,
     "metadata": {},
     "output_type": "execute_result"
    }
   ],
   "source": [
    "data.head()"
   ]
  },
  {
   "cell_type": "code",
   "execution_count": 37,
   "metadata": {
    "scrolled": true
   },
   "outputs": [],
   "source": [
    "data.to_csv('data/heart_modified.csv')"
   ]
  }
 ],
 "metadata": {
  "kernelspec": {
   "display_name": "Python 3",
   "language": "python",
   "name": "python3"
  },
  "language_info": {
   "codemirror_mode": {
    "name": "ipython",
    "version": 3
   },
   "file_extension": ".py",
   "mimetype": "text/x-python",
   "name": "python",
   "nbconvert_exporter": "python",
   "pygments_lexer": "ipython3",
   "version": "3.6.8"
  }
 },
 "nbformat": 4,
 "nbformat_minor": 2
}
